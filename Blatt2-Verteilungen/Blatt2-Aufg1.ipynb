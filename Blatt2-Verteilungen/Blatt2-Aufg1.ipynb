{
 "cells": [
  {
   "cell_type": "markdown",
   "metadata": {},
   "source": [
    "# Blatt 2 \n",
    "## 1. Aufgabe: Verteilungen und Grenzwerte"
   ]
  },
  {
   "cell_type": "code",
   "execution_count": 1,
   "metadata": {},
   "outputs": [],
   "source": [
    "import numpy as np\n",
    "import math as m\n",
    "import matplotlib.pyplot as plt\n",
    "import scipy.stats as stats"
   ]
  },
  {
   "cell_type": "markdown",
   "metadata": {},
   "source": [
    "### (a) Die Binomialverteilung nähert sich für n → ∞ und p → 0 mit festem λ = np der Poissonverteilung\n",
    "Plotte und vergleiche die Binomialverteilung fur ¨ n = 2, 100, 1000 fur λ = 1 mit der Poissonverteilung. Diskutiere dazu den Mittelwert und die Standardabweichung"
   ]
  },
  {
   "cell_type": "code",
   "execution_count": null,
   "metadata": {},
   "outputs": [],
   "source": []
  },
  {
   "cell_type": "markdown",
   "metadata": {},
   "source": [
    "### (b) Die Binomialverteilung nähert sich für n → ∞ der Normalverteilung (Gauss). Plotte und\n",
    "vergleiche die Binomialverteilung fur ¨ p = 1/2 und n = 10, 100, 1000 mit der\n",
    "Normalverteilung. Diskutiere wieder den Mittelwert und die Standardabweichung"
   ]
  },
  {
   "cell_type": "code",
   "execution_count": null,
   "metadata": {},
   "outputs": [],
   "source": []
  },
  {
   "cell_type": "markdown",
   "metadata": {},
   "source": [
    "### (c) In welchem Fall kann man die Normalverteilung als Grenzfall der Poissonverteilungverwenden? \n",
    "Zeige es anhand eines Plottes."
   ]
  },
  {
   "cell_type": "code",
   "execution_count": null,
   "metadata": {},
   "outputs": [],
   "source": []
  }
 ],
 "metadata": {
  "kernelspec": {
   "display_name": "Python 3.10.8 64-bit",
   "language": "python",
   "name": "python3"
  },
  "language_info": {
   "codemirror_mode": {
    "name": "ipython",
    "version": 3
   },
   "file_extension": ".py",
   "mimetype": "text/x-python",
   "name": "python",
   "nbconvert_exporter": "python",
   "pygments_lexer": "ipython3",
   "version": "3.10.8"
  },
  "orig_nbformat": 4,
  "vscode": {
   "interpreter": {
    "hash": "e7370f93d1d0cde622a1f8e1c04877d8463912d04d973331ad4851f04de6915a"
   }
  }
 },
 "nbformat": 4,
 "nbformat_minor": 2
}
