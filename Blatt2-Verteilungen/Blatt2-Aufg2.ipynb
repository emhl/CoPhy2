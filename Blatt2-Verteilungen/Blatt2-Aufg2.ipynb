{
 "cells": [
  {
   "cell_type": "markdown",
   "metadata": {},
   "source": [
    "# Blatt 2 \n",
    "## 2. Aufgabe: Poissonverteilung\n"
   ]
  },
  {
   "cell_type": "code",
   "execution_count": 1,
   "metadata": {},
   "outputs": [],
   "source": [
    "import numpy as np\n",
    "import math as m\n",
    "import matplotlib.pyplot as plt\n",
    "import scipy.stats as stats"
   ]
  },
  {
   "cell_type": "markdown",
   "metadata": {},
   "source": [
    "### (a) DNA\n",
    "Punktmutationen, die beim Duplizieren der DNA entstehen, werden durch\n",
    "ausgeklugelte Korrekturmechanismen so gut korrigiert, dass pro Generation nur eine ¨\n",
    "Punktmutation in 50 Millionen Basenpaaren entsteht. Die Zahl der daraus resultierenden\n",
    "Punktmutationen ist Poisson-verteilt.\n",
    "Das Chromosom Nummer 10 des Menschen hat 135 Millionen Basenpaare. Was sind die\n",
    "Wahrscheinlichkeiten dafur, dass ein Chromosom 10 des Kindes keine, eine, zwei ¨\n",
    "Punktmutationen gegenuber dem elterlichen Chromosom 10 bekommt? Stelle die ¨\n",
    "Ergebnisse graphisch dar."
   ]
  },
  {
   "cell_type": "code",
   "execution_count": null,
   "metadata": {},
   "outputs": [],
   "source": []
  },
  {
   "cell_type": "markdown",
   "metadata": {},
   "source": [
    "### (b) Dichteschwankungen\n",
    "Ein Behälter mit dem Volumen V enthalte N  1 Molekule; die\n",
    "mittlere Dichte beträgt ρ = N/V . Die Wahrscheinlichkeit, ein bestimmtes Molekul im\n",
    "Teilvolumen ∆V zu finden, ist p = ∆V/V . Es sei nun ∆V/V 1. Die Anzahl der\n",
    "Molekule in ∆V unterliegt dann einer Poisson-Verteilung mit ¯n = Np = ρ∆V . In\n",
    "welchem Fall werden die Dichteschwankungen sehr klein und im Sinne der\n",
    "Thermodynamik hat nur mehr die mittlere Dichte eine Bedeutung? Stelle die Verteilung\n",
    "an einem Beispiel und im Grenzfall graphisch dar."
   ]
  },
  {
   "cell_type": "code",
   "execution_count": null,
   "metadata": {},
   "outputs": [],
   "source": []
  },
  {
   "cell_type": "code",
   "execution_count": null,
   "metadata": {},
   "outputs": [],
   "source": []
  }
 ],
 "metadata": {
  "kernelspec": {
   "display_name": "Python 3.10.8 64-bit",
   "language": "python",
   "name": "python3"
  },
  "language_info": {
   "codemirror_mode": {
    "name": "ipython",
    "version": 3
   },
   "file_extension": ".py",
   "mimetype": "text/x-python",
   "name": "python",
   "nbconvert_exporter": "python",
   "pygments_lexer": "ipython3",
   "version": "3.10.8"
  },
  "orig_nbformat": 4,
  "vscode": {
   "interpreter": {
    "hash": "e7370f93d1d0cde622a1f8e1c04877d8463912d04d973331ad4851f04de6915a"
   }
  }
 },
 "nbformat": 4,
 "nbformat_minor": 2
}
