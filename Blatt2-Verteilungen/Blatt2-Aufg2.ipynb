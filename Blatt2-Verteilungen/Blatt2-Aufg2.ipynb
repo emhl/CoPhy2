{
 "cells": [
  {
   "cell_type": "markdown",
   "metadata": {},
   "source": [
    "# Blatt 2 \n",
    "## 2. Aufgabe: Poissonverteilung\n"
   ]
  },
  {
   "cell_type": "code",
   "execution_count": 2,
   "metadata": {},
   "outputs": [],
   "source": [
    "import numpy as np\n",
    "import math as m\n",
    "import matplotlib.pyplot as plt\n",
    "import scipy.stats as stats"
   ]
  },
  {
   "cell_type": "markdown",
   "metadata": {},
   "source": [
    "### (a) DNA\n",
    "Punktmutationen, die beim Duplizieren der DNA entstehen, werden durch\n",
    "ausgeklugelte Korrekturmechanismen so gut korrigiert, dass pro Generation nur eine ¨\n",
    "Punktmutation in 50 Millionen Basenpaaren entsteht. Die Zahl der daraus resultierenden\n",
    "Punktmutationen ist Poisson-verteilt.\n",
    "Das Chromosom Nummer 10 des Menschen hat 135 Millionen Basenpaare. Was sind die\n",
    "Wahrscheinlichkeiten dafur, dass ein Chromosom 10 des Kindes keine, eine, zwei ¨\n",
    "Punktmutationen gegenuber dem elterlichen Chromosom 10 bekommt? Stelle die ¨\n",
    "Ergebnisse graphisch dar."
   ]
  },
  {
   "cell_type": "code",
   "execution_count": 9,
   "metadata": {},
   "outputs": [
    {
     "ename": "KeyboardInterrupt",
     "evalue": "",
     "output_type": "error",
     "traceback": [
      "\u001b[0;31m---------------------------------------------------------------------------\u001b[0m",
      "\u001b[0;31mKeyboardInterrupt\u001b[0m                         Traceback (most recent call last)",
      "\u001b[1;32m/home/emil/Dokumente/code/CoPhy2/Blatt2-Verteilungen/Blatt2-Aufg2.ipynb Cell 4\u001b[0m in \u001b[0;36m<cell line: 4>\u001b[0;34m()\u001b[0m\n\u001b[1;32m      <a href='vscode-notebook-cell:/home/emil/Dokumente/code/CoPhy2/Blatt2-Verteilungen/Blatt2-Aufg2.ipynb#W3sZmlsZQ%3D%3D?line=1'>2</a>\u001b[0m n \u001b[39m=\u001b[39m \u001b[39m135e6\u001b[39m\n\u001b[1;32m      <a href='vscode-notebook-cell:/home/emil/Dokumente/code/CoPhy2/Blatt2-Verteilungen/Blatt2-Aufg2.ipynb#W3sZmlsZQ%3D%3D?line=2'>3</a>\u001b[0m x \u001b[39m=\u001b[39m np\u001b[39m.\u001b[39marange(\u001b[39m0\u001b[39m, n\u001b[39m+\u001b[39m\u001b[39m1\u001b[39m)\n\u001b[0;32m----> <a href='vscode-notebook-cell:/home/emil/Dokumente/code/CoPhy2/Blatt2-Verteilungen/Blatt2-Aufg2.ipynb#W3sZmlsZQ%3D%3D?line=3'>4</a>\u001b[0m y \u001b[39m=\u001b[39m stats\u001b[39m.\u001b[39;49mpoisson\u001b[39m.\u001b[39;49mpmf(x, n\u001b[39m*\u001b[39;49mp)\n",
      "File \u001b[0;32m~/.local/lib/python3.10/site-packages/scipy/stats/_distn_infrastructure.py:3178\u001b[0m, in \u001b[0;36mrv_discrete.pmf\u001b[0;34m(self, k, *args, **kwds)\u001b[0m\n\u001b[1;32m   3176\u001b[0m k \u001b[39m=\u001b[39m asarray((k\u001b[39m-\u001b[39mloc))\n\u001b[1;32m   3177\u001b[0m cond0 \u001b[39m=\u001b[39m \u001b[39mself\u001b[39m\u001b[39m.\u001b[39m_argcheck(\u001b[39m*\u001b[39margs)\n\u001b[0;32m-> 3178\u001b[0m cond1 \u001b[39m=\u001b[39m (k \u001b[39m>\u001b[39m\u001b[39m=\u001b[39m _a) \u001b[39m&\u001b[39m (k \u001b[39m<\u001b[39m\u001b[39m=\u001b[39m _b) \u001b[39m&\u001b[39m \u001b[39mself\u001b[39;49m\u001b[39m.\u001b[39;49m_nonzero(k, \u001b[39m*\u001b[39;49margs)\n\u001b[1;32m   3179\u001b[0m cond \u001b[39m=\u001b[39m cond0 \u001b[39m&\u001b[39m cond1\n\u001b[1;32m   3180\u001b[0m output \u001b[39m=\u001b[39m zeros(shape(cond), \u001b[39m'\u001b[39m\u001b[39md\u001b[39m\u001b[39m'\u001b[39m)\n",
      "\u001b[0;31mKeyboardInterrupt\u001b[0m: "
     ]
    }
   ],
   "source": [
    "p = 1/50 * 1e-3\n",
    "n = 135e6\n",
    "x = np.arange(0, n+1)\n",
    "y = stats.poisson.pmf(x, n*p)\n"
   ]
  },
  {
   "cell_type": "code",
   "execution_count": null,
   "metadata": {},
   "outputs": [],
   "source": [
    "plt.bar(x[:5], y[:5])"
   ]
  },
  {
   "cell_type": "markdown",
   "metadata": {},
   "source": [
    "### (b) Dichteschwankungen\n",
    "Ein Behälter mit dem Volumen V enthalte N  1 Molekule; die\n",
    "mittlere Dichte beträgt ρ = N/V . Die Wahrscheinlichkeit, ein bestimmtes Molekul im\n",
    "Teilvolumen ∆V zu finden, ist p = ∆V/V . Es sei nun ∆V/V 1. Die Anzahl der\n",
    "Molekule in ∆V unterliegt dann einer Poisson-Verteilung mit ¯n = Np = ρ∆V . In\n",
    "welchem Fall werden die Dichteschwankungen sehr klein und im Sinne der\n",
    "Thermodynamik hat nur mehr die mittlere Dichte eine Bedeutung? Stelle die Verteilung\n",
    "an einem Beispiel und im Grenzfall graphisch dar."
   ]
  },
  {
   "cell_type": "code",
   "execution_count": null,
   "metadata": {},
   "outputs": [],
   "source": []
  },
  {
   "cell_type": "code",
   "execution_count": null,
   "metadata": {},
   "outputs": [],
   "source": []
  }
 ],
 "metadata": {
  "kernelspec": {
   "display_name": "Python 3.10.8 64-bit",
   "language": "python",
   "name": "python3"
  },
  "language_info": {
   "codemirror_mode": {
    "name": "ipython",
    "version": 3
   },
   "file_extension": ".py",
   "mimetype": "text/x-python",
   "name": "python",
   "nbconvert_exporter": "python",
   "pygments_lexer": "ipython3",
   "version": "3.10.8"
  },
  "orig_nbformat": 4,
  "vscode": {
   "interpreter": {
    "hash": "e7370f93d1d0cde622a1f8e1c04877d8463912d04d973331ad4851f04de6915a"
   }
  }
 },
 "nbformat": 4,
 "nbformat_minor": 2
}
