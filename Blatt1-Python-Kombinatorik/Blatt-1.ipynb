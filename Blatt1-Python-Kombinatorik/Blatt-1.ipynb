{
 "cells": [
  {
   "cell_type": "markdown",
   "id": "33b60d81-d0a8-464f-866d-b155a495b722",
   "metadata": {},
   "source": [
    "# Blatt 1"
   ]
  },
  {
   "cell_type": "code",
   "execution_count": 33,
   "id": "e8827370-4980-4550-a8c0-ce1203282c45",
   "metadata": {},
   "outputs": [],
   "source": [
    "import numpy as np\n",
    "import math as m\n",
    "import time\n",
    "import matplotlib.pyplot as plt\n",
    "import itertools"
   ]
  },
  {
   "cell_type": "markdown",
   "id": "61f37143-cb2c-4ae8-8629-fbffc3fe0ce3",
   "metadata": {
    "jp-MarkdownHeadingCollapsed": true,
    "tags": []
   },
   "source": [
    "## Aufgabe 1"
   ]
  },
  {
   "cell_type": "markdown",
   "id": "83679597-74a0-4196-b543-918e11f3c493",
   "metadata": {
    "jp-MarkdownHeadingCollapsed": true,
    "tags": []
   },
   "source": [
    "### (a) Probiere möglichst viele Methoden (Kommandozeile, Skript, Notebook, etc.) aus, um”Hello, World!” mit Python auszugeben."
   ]
  },
  {
   "cell_type": "code",
   "execution_count": 3,
   "id": "2645b500-320b-4e8b-969b-4ebf06424ae9",
   "metadata": {},
   "outputs": [
    {
     "name": "stdout",
     "output_type": "stream",
     "text": [
      "Hello, World!\n"
     ]
    }
   ],
   "source": [
    "print(\"Hello, World!\")"
   ]
  },
  {
   "cell_type": "markdown",
   "id": "d40c5592-0566-4f22-b55b-f3145431ca3c",
   "metadata": {
    "jp-MarkdownHeadingCollapsed": true,
    "tags": []
   },
   "source": [
    "### (b) Schreibe jeweils ein Programm, dass die Zahlen 1-42 ausgibt mit einer for und while Schleife."
   ]
  },
  {
   "cell_type": "code",
   "execution_count": 4,
   "id": "15c58814-02fd-4f8e-9e9d-2757aa9201dc",
   "metadata": {},
   "outputs": [
    {
     "name": "stdout",
     "output_type": "stream",
     "text": [
      "1 2 3 4 5 6 7 8 9 10 11 12 13 14 15 16 17 18 19 20 21 22 23 24 25 26 27 28 29 30 31 32 33 34 35 36 37 38 39 40 41 42 "
     ]
    }
   ],
   "source": [
    "for i in range(42):\n",
    "    print(i+1, end=\" \")"
   ]
  },
  {
   "cell_type": "code",
   "execution_count": 5,
   "id": "3b78386b-4662-4766-a0b8-0f3e79834110",
   "metadata": {},
   "outputs": [
    {
     "name": "stdout",
     "output_type": "stream",
     "text": [
      "1 2 3 4 5 6 7 8 9 10 11 12 13 14 15 16 17 18 19 20 21 22 23 24 25 26 27 28 29 30 31 32 33 34 35 36 37 38 39 40 41 42 "
     ]
    }
   ],
   "source": [
    "i = 1\n",
    "while (i<=42):\n",
    "    print(i, end=\" \")\n",
    "    i+=1"
   ]
  },
  {
   "cell_type": "markdown",
   "id": "509f3bd1-f112-45ff-ac21-e279bc2a0688",
   "metadata": {
    "jp-MarkdownHeadingCollapsed": true,
    "tags": []
   },
   "source": [
    "### (c) Schreibe ein Programm, dass eine Tabelle zur Umrechung von Celsius in Fahrenheit und Kelvin ausgibt fur 0 bis 100 Grad Celsius."
   ]
  },
  {
   "cell_type": "code",
   "execution_count": 6,
   "id": "aa4000a4-8807-4249-bd80-d62e7b6a81fb",
   "metadata": {},
   "outputs": [],
   "source": [
    "def fahrenheit(celsius : float):\n",
    "    return celsius*1.8 + 32\n",
    "\n",
    "def kelvin(celsius : float):\n",
    "    return celsius + 273.15"
   ]
  },
  {
   "cell_type": "code",
   "execution_count": 7,
   "id": "ea072693-74db-443b-a985-d7c6551ea36e",
   "metadata": {},
   "outputs": [
    {
     "name": "stdout",
     "output_type": "stream",
     "text": [
      "C\tF\tK\n",
      "0\t32.0\t273.15\n",
      "1\t33.8\t274.15\n",
      "2\t35.6\t275.15\n",
      "3\t37.4\t276.15\n",
      "4\t39.2\t277.15\n",
      "5\t41.0\t278.15\n",
      "6\t42.8\t279.15\n",
      "7\t44.6\t280.15\n",
      "8\t46.4\t281.15\n",
      "9\t48.2\t282.15\n",
      "10\t50.0\t283.15\n",
      "11\t51.8\t284.15\n",
      "12\t53.6\t285.15\n",
      "13\t55.400000000000006\t286.15\n",
      "14\t57.2\t287.15\n",
      "15\t59.0\t288.15\n",
      "16\t60.8\t289.15\n",
      "17\t62.6\t290.15\n",
      "18\t64.4\t291.15\n",
      "19\t66.2\t292.15\n",
      "20\t68.0\t293.15\n",
      "21\t69.80000000000001\t294.15\n",
      "22\t71.6\t295.15\n",
      "23\t73.4\t296.15\n",
      "24\t75.2\t297.15\n",
      "25\t77.0\t298.15\n",
      "26\t78.80000000000001\t299.15\n",
      "27\t80.6\t300.15\n",
      "28\t82.4\t301.15\n",
      "29\t84.2\t302.15\n",
      "30\t86.0\t303.15\n",
      "31\t87.80000000000001\t304.15\n",
      "32\t89.6\t305.15\n",
      "33\t91.4\t306.15\n",
      "34\t93.2\t307.15\n",
      "35\t95.0\t308.15\n",
      "36\t96.8\t309.15\n",
      "37\t98.60000000000001\t310.15\n",
      "38\t100.4\t311.15\n",
      "39\t102.2\t312.15\n",
      "40\t104.0\t313.15\n",
      "41\t105.8\t314.15\n",
      "42\t107.60000000000001\t315.15\n",
      "43\t109.4\t316.15\n",
      "44\t111.2\t317.15\n",
      "45\t113.0\t318.15\n",
      "46\t114.8\t319.15\n",
      "47\t116.60000000000001\t320.15\n",
      "48\t118.4\t321.15\n",
      "49\t120.2\t322.15\n",
      "50\t122.0\t323.15\n",
      "51\t123.8\t324.15\n",
      "52\t125.60000000000001\t325.15\n",
      "53\t127.4\t326.15\n",
      "54\t129.2\t327.15\n",
      "55\t131.0\t328.15\n",
      "56\t132.8\t329.15\n",
      "57\t134.60000000000002\t330.15\n",
      "58\t136.4\t331.15\n",
      "59\t138.2\t332.15\n",
      "60\t140.0\t333.15\n",
      "61\t141.8\t334.15\n",
      "62\t143.60000000000002\t335.15\n",
      "63\t145.4\t336.15\n",
      "64\t147.2\t337.15\n",
      "65\t149.0\t338.15\n",
      "66\t150.8\t339.15\n",
      "67\t152.60000000000002\t340.15\n",
      "68\t154.4\t341.15\n",
      "69\t156.2\t342.15\n",
      "70\t158.0\t343.15\n",
      "71\t159.8\t344.15\n",
      "72\t161.6\t345.15\n",
      "73\t163.4\t346.15\n",
      "74\t165.20000000000002\t347.15\n",
      "75\t167.0\t348.15\n",
      "76\t168.8\t349.15\n",
      "77\t170.6\t350.15\n",
      "78\t172.4\t351.15\n",
      "79\t174.20000000000002\t352.15\n",
      "80\t176.0\t353.15\n",
      "81\t177.8\t354.15\n",
      "82\t179.6\t355.15\n",
      "83\t181.4\t356.15\n",
      "84\t183.20000000000002\t357.15\n",
      "85\t185.0\t358.15\n",
      "86\t186.8\t359.15\n",
      "87\t188.6\t360.15\n",
      "88\t190.4\t361.15\n",
      "89\t192.20000000000002\t362.15\n",
      "90\t194.0\t363.15\n",
      "91\t195.8\t364.15\n",
      "92\t197.6\t365.15\n",
      "93\t199.4\t366.15\n",
      "94\t201.20000000000002\t367.15\n",
      "95\t203.0\t368.15\n",
      "96\t204.8\t369.15\n",
      "97\t206.6\t370.15\n",
      "98\t208.4\t371.15\n",
      "99\t210.20000000000002\t372.15\n"
     ]
    }
   ],
   "source": [
    "print(\"C\\tF\\tK\")\n",
    "for temp in range(100):\n",
    "    print(temp, fahrenheit(temp), kelvin(temp), sep=\"\\t\")"
   ]
  },
  {
   "cell_type": "markdown",
   "id": "94205e34-c6b4-453c-9fd8-e3287bae8faf",
   "metadata": {
    "jp-MarkdownHeadingCollapsed": true,
    "tags": []
   },
   "source": [
    "### (d) Was ist die größte Integer Zahl, die Python verarbeiten kann? Was macht Python mit größeren Zahlen?"
   ]
  },
  {
   "cell_type": "code",
   "execution_count": 8,
   "id": "c280c9bb-030d-4e1a-ade9-1dfca5f84791",
   "metadata": {},
   "outputs": [
    {
     "name": "stdout",
     "output_type": "stream",
     "text": [
      "<class 'int'>\n"
     ]
    }
   ],
   "source": [
    "n = 999999999999999999999999999999999999999999999999999999999999999999999999999999\n",
    "n = n ** 999\n",
    "#print (n)\n",
    "print(type(n))\n",
    "# => kein limit in python 3"
   ]
  },
  {
   "cell_type": "markdown",
   "id": "ce16ae9c-93bd-4252-8ce2-717422e0b8e5",
   "metadata": {
    "jp-MarkdownHeadingCollapsed": true,
    "tags": []
   },
   "source": [
    "### (e) Schreibe eine Funktion, die uberpr ¨ uft, ob eine eingelesene Zahl eine Primzahl ist. "
   ]
  },
  {
   "cell_type": "code",
   "execution_count": 9,
   "id": "e05a385e-116f-4fd5-bccc-e6788e8748d8",
   "metadata": {},
   "outputs": [],
   "source": [
    "def isPrime(i :int):\n",
    "    if (i <=1):\n",
    "        return False\n",
    "    for k in range(2,i):\n",
    "        if (i%k == 0):\n",
    "            return False\n",
    "    return True    "
   ]
  },
  {
   "cell_type": "code",
   "execution_count": 10,
   "id": "ae80682a-26c2-4b1b-aa40-47d5603bebc6",
   "metadata": {},
   "outputs": [
    {
     "data": {
      "text/plain": [
       "True"
      ]
     },
     "execution_count": 10,
     "metadata": {},
     "output_type": "execute_result"
    }
   ],
   "source": [
    "isPrime(524287)"
   ]
  },
  {
   "cell_type": "markdown",
   "id": "9f9c6861-1231-4356-a87d-f36bf71edc15",
   "metadata": {
    "jp-MarkdownHeadingCollapsed": true,
    "tags": []
   },
   "source": [
    "### (f) Schreibe jeweils eine Funktion, die eine komplexe Zahl von der kartesischen in die Polarform bzw. von der Polarform in die kartesische Form umwandelt. Teste sie an einfachen Beispielen."
   ]
  },
  {
   "cell_type": "code",
   "execution_count": 11,
   "id": "369832e3-4ff2-4cec-97ce-e19af19fe385",
   "metadata": {},
   "outputs": [],
   "source": [
    "def kart2pol(c:complex):\n",
    "    r = abs(c)\n",
    "    p = np.arctan2(c.real,c.imag)\n",
    "    return r,p\n",
    "def pol2kart(r,p):\n",
    "    return r*(np.sin(p) + np.cos(p)*1j)"
   ]
  },
  {
   "cell_type": "code",
   "execution_count": 12,
   "id": "d52532eb-b505-484e-8dfd-ee072652a4fc",
   "metadata": {},
   "outputs": [
    {
     "name": "stdout",
     "output_type": "stream",
     "text": [
      "2.23606797749979 0.4636476090008061\n"
     ]
    },
    {
     "data": {
      "text/plain": [
       "(1+2j)"
      ]
     },
     "execution_count": 12,
     "metadata": {},
     "output_type": "execute_result"
    }
   ],
   "source": [
    "c = 1+2j\n",
    "r,p = kart2pol(c)\n",
    "print(r,p)\n",
    "pol2kart(r,p)"
   ]
  },
  {
   "cell_type": "markdown",
   "id": "9461a3b1-f5fe-44de-bb22-50cec498e570",
   "metadata": {},
   "source": [
    "### (g) Schreibe eine Funktion, die den Betrag eines Vektors berechnet und diesen zusammen mit dem normierten Vektor zuruck gibt. (Achtung: Nullvektor)"
   ]
  },
  {
   "cell_type": "code",
   "execution_count": 13,
   "id": "f1efdef5-81d1-47ad-8bae-31353453ff73",
   "metadata": {},
   "outputs": [],
   "source": [
    "def norm(vektor): # type nparray\n",
    "    x = np.matrix(vektor).T\n",
    "    betrag = float(np.sqrt(x.T*x))\n",
    "    norm_vektor= vektor / betrag\n",
    "    return betrag, norm_vektor"
   ]
  },
  {
   "cell_type": "code",
   "execution_count": 14,
   "id": "4ac24bde-a452-4858-85b3-419656901bc6",
   "metadata": {},
   "outputs": [
    {
     "data": {
      "text/plain": [
       "(5.477225575051661, array([0.18257419, 0.36514837, 0.54772256, 0.73029674]))"
      ]
     },
     "execution_count": 14,
     "metadata": {},
     "output_type": "execute_result"
    }
   ],
   "source": [
    "v = np.array([1,2,3,4])\n",
    "norm(v)"
   ]
  },
  {
   "cell_type": "markdown",
   "id": "6f8d2005-34a7-47ad-b648-94f045b45ded",
   "metadata": {},
   "source": [
    "### (h) Schreibe eine Funktion, die das Kreuzprodukt zweier Vektoren berechnet."
   ]
  },
  {
   "cell_type": "code",
   "execution_count": 15,
   "id": "b2413e16-1ff0-448b-bd61-02fbb8fc7a1a",
   "metadata": {},
   "outputs": [],
   "source": [
    "def kreuzProd(vek1 , vek2): # shape (3,1)\n",
    "    result = [0]*3\n",
    "    for x in range(3):\n",
    "        result[x]=vek1[x-2]*vek2[x-1] - vek1[x-1]*vek2[x-2]\n",
    "    return result"
   ]
  },
  {
   "cell_type": "code",
   "execution_count": 16,
   "id": "6109c9ab-faef-4a56-9dbd-c1c16a709dad",
   "metadata": {},
   "outputs": [
    {
     "data": {
      "text/plain": [
       "[-3, 6, -3]"
      ]
     },
     "execution_count": 16,
     "metadata": {},
     "output_type": "execute_result"
    }
   ],
   "source": [
    "v1 = [1,2,3]\n",
    "v2 = [4,5,6]\n",
    "kreuzProd(v1,v2)"
   ]
  },
  {
   "cell_type": "markdown",
   "id": "71ed0e59-ccbd-4203-9c8a-39d51d5c10ca",
   "metadata": {},
   "source": [
    "### (i) Schreibe eine Funktion, die die Determinante einer 2x2 Matrix berechnet. Versuche eine Funktion zu schreiben, die die Determinante einer NxN-Matrix berechnet (z.B. rekursiv mit dem Laplaceschen Entwicklungssatz). Teste aus, wie groß die Matrix sein kann, um die Determinante noch in vernunftiger Zeit berechnen zu können"
   ]
  },
  {
   "cell_type": "code",
   "execution_count": 17,
   "id": "36345486-cc45-46cc-a6e2-1b5824df41ad",
   "metadata": {},
   "outputs": [],
   "source": [
    "def determinante(mat): # shape (2,2)\n",
    "    return mat[0][0]*mat[1][1] - mat[0][1]*mat[1][0]"
   ]
  },
  {
   "cell_type": "code",
   "execution_count": 18,
   "id": "ae9e6208-4072-4779-9b0b-4153a427a6ed",
   "metadata": {},
   "outputs": [
    {
     "data": {
      "text/plain": [
       "-2"
      ]
     },
     "execution_count": 18,
     "metadata": {},
     "output_type": "execute_result"
    }
   ],
   "source": [
    "matrix = [[1,2],[3,4]]\n",
    "determinante(matrix)"
   ]
  },
  {
   "cell_type": "markdown",
   "id": "d3088d56-962f-4ea3-abb5-a6bd130e68e7",
   "metadata": {},
   "source": [
    "## Aufgabe 2"
   ]
  },
  {
   "cell_type": "markdown",
   "id": "c5240460-fc96-4e34-aae8-017592f33242",
   "metadata": {},
   "source": [
    "### (a) Schreibe eine rekursive und eine iterative Funktion zur Berechnung der Fakultät einer Zahl n ∈ N. Teste die Funktionen und die Python-Funktion math.factorial() für große n."
   ]
  },
  {
   "cell_type": "code",
   "execution_count": 19,
   "id": "ee7a9482-6877-476f-9f81-86653314557d",
   "metadata": {},
   "outputs": [],
   "source": [
    "def fakultaet(n):\n",
    "    if (n == 0):\n",
    "        return 1\n",
    "    else:\n",
    "        return n*fakultaet(n-1)"
   ]
  },
  {
   "cell_type": "code",
   "execution_count": 20,
   "id": "3c55cbf5-0919-4e3f-a6c3-29d65d32370d",
   "metadata": {},
   "outputs": [
    {
     "name": "stdout",
     "output_type": "stream",
     "text": [
      "Dauer selbst implementiert: 0.002848386764526367s\n",
      "Dauer math.factorial(): 0.0002295970916748047s\n"
     ]
    }
   ],
   "source": [
    "x = 1337\n",
    "startime = time.time()\n",
    "fakultaet(x)\n",
    "print(f\"Dauer selbst implementiert: {time.time()-startime}s\")\n",
    "startime = time.time()\n",
    "m.factorial(x)\n",
    "print(f\"Dauer math.factorial(): {time.time()-startime}s\")"
   ]
  },
  {
   "cell_type": "markdown",
   "id": "0f90ade0-2840-4e8c-9f58-f322a790afeb",
   "metadata": {},
   "source": [
    "### (b) Schreibe ein Programm, dass das Pascalsche Dreieck berechnet und ausgibt. Achtung: Die Formatierung ist nicht so einfach."
   ]
  },
  {
   "cell_type": "code",
   "execution_count": 21,
   "id": "9f8ae391-db64-4d81-aa9c-3fd44c77544b",
   "metadata": {},
   "outputs": [],
   "source": [
    "def pascal(n):\n",
    "    for i in range(n):\n",
    "        print('\\t'* ((n-i)),end='')\n",
    "        for j in range(i+1):\n",
    "            print(m.comb(i,j),end='\\t\\t')\n",
    "        print()\n",
    "    "
   ]
  },
  {
   "cell_type": "code",
   "execution_count": 22,
   "id": "2399231a-0533-400e-abed-119050a40c17",
   "metadata": {},
   "outputs": [
    {
     "name": "stdout",
     "output_type": "stream",
     "text": [
      "\t\t\t\t\t\t\t\t\t1\t\t\n",
      "\t\t\t\t\t\t\t\t1\t\t1\t\t\n",
      "\t\t\t\t\t\t\t1\t\t2\t\t1\t\t\n",
      "\t\t\t\t\t\t1\t\t3\t\t3\t\t1\t\t\n",
      "\t\t\t\t\t1\t\t4\t\t6\t\t4\t\t1\t\t\n",
      "\t\t\t\t1\t\t5\t\t10\t\t10\t\t5\t\t1\t\t\n",
      "\t\t\t1\t\t6\t\t15\t\t20\t\t15\t\t6\t\t1\t\t\n",
      "\t\t1\t\t7\t\t21\t\t35\t\t35\t\t21\t\t7\t\t1\t\t\n",
      "\t1\t\t8\t\t28\t\t56\t\t70\t\t56\t\t28\t\t8\t\t1\t\t\n"
     ]
    }
   ],
   "source": [
    "pascal(9)"
   ]
  },
  {
   "cell_type": "markdown",
   "id": "3b3dfd5b-d448-470d-b1fc-83da92e0b71d",
   "metadata": {
    "tags": []
   },
   "source": [
    "### (c) Finde heraus, wie man mit den itertools die Variationen und Kombinationen (jeweils mit und ohne Wiederholung) anzeigen lassen kann. Teste an einfachen Beispielen."
   ]
  },
  {
   "cell_type": "code",
   "execution_count": 39,
   "id": "5340e4ba-e087-40dc-b6af-535bebc506e0",
   "metadata": {},
   "outputs": [
    {
     "data": {
      "text/plain": [
       "[(1, 2, 3), (1, 2, 4), (1, 3, 4), (2, 3, 4)]"
      ]
     },
     "execution_count": 39,
     "metadata": {},
     "output_type": "execute_result"
    }
   ],
   "source": [
    "list(itertools.combinations(range(1,5),3))"
   ]
  },
  {
   "cell_type": "code",
   "execution_count": 40,
   "id": "5e901c23",
   "metadata": {},
   "outputs": [
    {
     "data": {
      "text/plain": [
       "[(1, 2, 3),\n",
       " (1, 2, 4),\n",
       " (1, 3, 2),\n",
       " (1, 3, 4),\n",
       " (1, 4, 2),\n",
       " (1, 4, 3),\n",
       " (2, 1, 3),\n",
       " (2, 1, 4),\n",
       " (2, 3, 1),\n",
       " (2, 3, 4),\n",
       " (2, 4, 1),\n",
       " (2, 4, 3),\n",
       " (3, 1, 2),\n",
       " (3, 1, 4),\n",
       " (3, 2, 1),\n",
       " (3, 2, 4),\n",
       " (3, 4, 1),\n",
       " (3, 4, 2),\n",
       " (4, 1, 2),\n",
       " (4, 1, 3),\n",
       " (4, 2, 1),\n",
       " (4, 2, 3),\n",
       " (4, 3, 1),\n",
       " (4, 3, 2)]"
      ]
     },
     "execution_count": 40,
     "metadata": {},
     "output_type": "execute_result"
    }
   ],
   "source": [
    "list(itertools.permutations(range(1,5),3))"
   ]
  },
  {
   "cell_type": "markdown",
   "id": "a259c2fa-29e1-443b-8187-8942c5fbb1bc",
   "metadata": {
    "tags": []
   },
   "source": [
    "### (d) Die Fibonacci-Folge"
   ]
  },
  {
   "cell_type": "markdown",
   "id": "39e322d9-3f5a-47a3-90f5-d2455deb51c0",
   "metadata": {
    "jp-MarkdownHeadingCollapsed": true,
    "tags": []
   },
   "source": [
    "#### i. Schreibe ein Programm, dass die ersten Zahlen der Fibonacci-Folge ausgibt."
   ]
  },
  {
   "cell_type": "code",
   "execution_count": 23,
   "id": "20ea7648-aedb-4a97-a125-3845e8025686",
   "metadata": {},
   "outputs": [],
   "source": [
    "def fib(n):\n",
    "    if (n==0):\n",
    "        return 0\n",
    "    if (n==1):\n",
    "        return 1\n",
    "    return fib(n-1) + fib(n-2)"
   ]
  },
  {
   "cell_type": "code",
   "execution_count": 24,
   "id": "d6f19d2c-fb77-4828-bf89-c2c5511c2a4f",
   "metadata": {
    "tags": []
   },
   "outputs": [
    {
     "name": "stdout",
     "output_type": "stream",
     "text": [
      "0\n",
      "1\n",
      "1\n",
      "2\n",
      "3\n",
      "5\n",
      "8\n",
      "13\n",
      "21\n",
      "34\n"
     ]
    }
   ],
   "source": [
    "for i in range(10):\n",
    "    print(fib(i))"
   ]
  },
  {
   "cell_type": "markdown",
   "id": "d3f4793d-37aa-4c63-9698-2077d089760c",
   "metadata": {},
   "source": [
    "#### ii. Überprüfe, ob gilt sum fi^2 = f_n * f_n+1"
   ]
  },
  {
   "cell_type": "code",
   "execution_count": 29,
   "id": "20796559-41cf-4a8c-9f89-3939f6368454",
   "metadata": {},
   "outputs": [
    {
     "name": "stdout",
     "output_type": "stream",
     "text": [
      "Richtig\n"
     ]
    }
   ],
   "source": [
    "n = 30\n",
    "m = 0\n",
    "for i in range(n+1):\n",
    "    m += fib(i)**2\n",
    "    l = fib(i)*fib(i+1)\n",
    "    #print(m,l)\n",
    "    if(m != l):\n",
    "        print(\"Falsch\")\n",
    "        break\n",
    "print(\"Richtig\")"
   ]
  },
  {
   "cell_type": "markdown",
   "id": "0dc35736-2571-49d3-9318-1e6a48a345e0",
   "metadata": {},
   "source": [
    "#### iii. Bestimme den Grenzwert lim n→∞ fn+1 /fn . Wie nennt man den Wert?"
   ]
  },
  {
   "cell_type": "code",
   "execution_count": 43,
   "id": "6bbb21cc-e4df-4870-9bee-5293d45eec00",
   "metadata": {},
   "outputs": [
    {
     "name": "stdout",
     "output_type": "stream",
     "text": [
      "n=28, m=27, goldener schnitt=1.6180339887802426\n"
     ]
    }
   ],
   "source": [
    "n = 2\n",
    "m = 1\n",
    "k = 0\n",
    "\n",
    "bound = 1e-10\n",
    "while (True):\n",
    "    n+=1\n",
    "    m+=1\n",
    "    if (abs(fib(n)/fib(m) - k) < bound):\n",
    "        print(f\"n={n}, m={m}, goldener schnitt={k}\")\n",
    "        break\n",
    "    k = fib(n)/fib(m)"
   ]
  },
  {
   "cell_type": "markdown",
   "id": "0afc34f6-c57a-443b-9bf8-369c15b2de23",
   "metadata": {},
   "source": [
    "#### iv. Der gleiche Wert ergibt sich durch den Kettenbruch 1 + 1 / (1 + 1 /(1 + ...)) Stimmt das?"
   ]
  },
  {
   "cell_type": "code",
   "execution_count": 42,
   "id": "c56a1fcd-3f09-41af-a7aa-88e13c526553",
   "metadata": {},
   "outputs": [
    {
     "name": "stdout",
     "output_type": "stream",
     "text": [
      "goldener schnitt=1.618033988738303\n"
     ]
    }
   ],
   "source": [
    "current = 1\n",
    "last = 0\n",
    "\n",
    "bound = 1e-10\n",
    "while (True):\n",
    "    last = current\n",
    "    current =  1 + 1/current\n",
    "    if (abs(current - last) < bound):\n",
    "        print(f\"goldener schnitt={current}\")\n",
    "        break"
   ]
  },
  {
   "cell_type": "markdown",
   "id": "4b4b611f-31ed-4726-8cac-1c303a897183",
   "metadata": {},
   "source": [
    "### (e) Wieviele Münzen braucht man maximal und durchschnittlich, um alle Beträge zwischen 1 Cent und 99 Cent mit den Münzen 1,2,5,10,20,50 Cent zusammen zu bekommen?"
   ]
  },
  {
   "cell_type": "code",
   "execution_count": 53,
   "id": "8c9b5009-489d-4627-9613-c7b09eea226e",
   "metadata": {},
   "outputs": [],
   "source": [
    "def usedCoins(value):\n",
    "    coins = [1,2,5,10,20,50]\n",
    "    result = []\n",
    "    for coin in reversed(coins):\n",
    "        while (value >= coin):\n",
    "            result.append(coin)\n",
    "            value -= coin\n",
    "    return result\n",
    "\n",
    "def usedCoinCount(value):\n",
    "    coins = [1,2,5,10,20,50]\n",
    "    result = 0\n",
    "    for coin in reversed(coins):\n",
    "        while (value >= coin):\n",
    "            result += 1\n",
    "            value -= coin\n",
    "    return result"
   ]
  },
  {
   "cell_type": "code",
   "execution_count": 57,
   "id": "4604f5f9",
   "metadata": {},
   "outputs": [
    {
     "name": "stdout",
     "output_type": "stream",
     "text": [
      "maximum: 6 coins\n",
      "average: 3.4081632653061225 coins\n"
     ]
    },
    {
     "data": {
      "text/plain": [
       "[<matplotlib.lines.Line2D at 0x7feeaff84a30>]"
      ]
     },
     "execution_count": 57,
     "metadata": {},
     "output_type": "execute_result"
    },
    {
     "data": {
      "image/png": "[encoded data removed]",
      "text/plain": [
       "<Figure size 640x480 with 1 Axes>"
      ]
     },
     "metadata": {},
     "output_type": "display_data"
    }
   ],
   "source": [
    "used = []\n",
    "for i in range(1,99):\n",
    "    used.append(usedCoinCount(i))\n",
    "\n",
    "print(f\"maximum: {np.max(used)} coins\")\n",
    "print(f\"average: {np.average(used)} coins\")\n",
    "plt.plot(used)"
   ]
  },
  {
   "cell_type": "markdown",
   "id": "825dac6d-3c4c-4594-b845-ff8ba2cbf6cb",
   "metadata": {},
   "source": [
    "### (f) Schreibe ein Programm, das die Buchstabenhäufigkeit in einem eingelesenen Text ausgibt. Stelle das Ergebnis mit Matplotlib als Histogramm dar."
   ]
  },
  {
   "cell_type": "code",
   "execution_count": 73,
   "id": "0b1210c1",
   "metadata": {},
   "outputs": [],
   "source": [
    "def countChars(text):\n",
    "    result = {}\n",
    "    for char in text:\n",
    "        if (char in result):\n",
    "            result[char] += 1\n",
    "        else:\n",
    "            result[char] = 1\n",
    "    return result\n",
    "from collections import OrderedDict"
   ]
  },
  {
   "cell_type": "code",
   "execution_count": 76,
   "id": "b54a1460-6ca9-42ab-b347-157a7360723b",
   "metadata": {},
   "outputs": [
    {
     "name": "stdout",
     "output_type": "stream",
     "text": [
      "OrderedDict([(' ', 99), (',', 8), ('.', 6), ('a', 46), ('b', 6), ('c', 12), ('d', 26), ('e', 56), ('g', 8), ('i', 30), ('j', 2), ('k', 4), ('l', 22), ('m', 32), ('n', 20), ('o', 42), ('p', 10), ('q', 2), ('r', 32), ('s', 38), ('t', 50), ('u', 30), ('v', 6), ('y', 4)])\n"
     ]
    },
    {
     "data": {
      "text/plain": [
       "<BarContainer object of 24 artists>"
      ]
     },
     "execution_count": 76,
     "metadata": {},
     "output_type": "execute_result"
    },
    {
     "data": {
      "image/png": "[encoded data removed]",
      "text/plain": [
       "<Figure size 640x480 with 1 Axes>"
      ]
     },
     "metadata": {},
     "output_type": "display_data"
    }
   ],
   "source": [
    "f = open(\"test.txt\", \"r\")\n",
    "text = f.read().lower()\n",
    "f.close()\n",
    "\n",
    "dict = OrderedDict(sorted(countChars(text).items()))\n",
    "print(dict)\n",
    "plt.bar(dict.keys(), dict.values())"
   ]
  },
  {
   "cell_type": "code",
   "execution_count": null,
   "id": "56d685ff",
   "metadata": {},
   "outputs": [],
   "source": []
  }
 ],
 "metadata": {
  "kernelspec": {
   "display_name": "Python 3.10.8 64-bit",
   "language": "python",
   "name": "python3"
  },
  "language_info": {
   "codemirror_mode": {
    "name": "ipython",
    "version": 3
   },
   "file_extension": ".py",
   "mimetype": "text/x-python",
   "name": "python",
   "nbconvert_exporter": "python",
   "pygments_lexer": "ipython3",
   "version": "3.10.8"
  },
  "vscode": {
   "interpreter": {
    "hash": "e7370f93d1d0cde622a1f8e1c04877d8463912d04d973331ad4851f04de6915a"
   }
  }
 },
 "nbformat": 4,
 "nbformat_minor": 5
}
