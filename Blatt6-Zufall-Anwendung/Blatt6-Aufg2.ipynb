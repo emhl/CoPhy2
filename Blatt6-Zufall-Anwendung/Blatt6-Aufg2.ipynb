{
 "cells": [
  {
   "attachments": {},
   "cell_type": "markdown",
   "metadata": {},
   "source": [
    "# Blatt 6"
   ]
  },
  {
   "attachments": {},
   "cell_type": "markdown",
   "metadata": {},
   "source": [
    "## Aufgabe 2  Monte-Carlo-Integration"
   ]
  },
  {
   "cell_type": "code",
   "execution_count": 1,
   "metadata": {},
   "outputs": [],
   "source": [
    "import numpy as np"
   ]
  },
  {
   "attachments": {},
   "cell_type": "markdown",
   "metadata": {},
   "source": [
    "### a) Wir wollen die Fl ̈ache eines Kreises mit Hilfe der Stein-Wurf-Methode bestimmen.\n",
    "Effektiv berechnen wir also das Integral\n",
    "\n",
    "$4 \\int_0^1 \\sqrt{1-x^2} dx$\n",
    "\n",
    "mit der Monte-Carlo-Integration.\n",
    "Schreibe dazu ein Python-Programm und bestimme N -mal zwei unabh ̈angige\n",
    "Zufallszahlen $a$ und $b$ im Bereich $[0, 1]$ und berechne das Verh ̈altnis $N_+/N$ , wobei $N_+$ die\n",
    "Versuche mit $a^2 + b^2 \\leq 1$ sind.\n",
    "Vergleiche das Ergebnis f ̈ur verschiedene Werte von $N$ . Wie gut konvergiert die Methode\n",
    "f ̈ur $N \\to \\infty$ gegen den theoretischen Wert?"
   ]
  },
  {
   "cell_type": "code",
   "execution_count": null,
   "metadata": {},
   "outputs": [],
   "source": []
  },
  {
   "attachments": {},
   "cell_type": "markdown",
   "metadata": {},
   "source": [
    "### b) Einheitskugel\n",
    "Die MC-Integration ist insbesondere bei hochdimensionalen Integralen konkurrenzlos.\n",
    "Erweitere das Programm aus a), um das Volumen der d-dimensionalen Einheitskugel\n",
    "$V_d = \\int d^dx zu berechnen. Erzeuge dazu N -mal d unabh ̈angige Zufallszahlen $x_i$ im\n",
    "Bereich $[0, 1]$ und berechne wieder das Verh ̈altnis $N_+/N$ , wobei $N_+$ hier die Versuche mit $\\sum_{i=1}^d x_i^2 \\leq 1$ sind.\n",
    "Stelle das berechnete Volumen f ̈ur N = 106 abh ̈angig von der Dimension d = 1, .., 20 dar\n",
    "und vergleichen Sie mit dem analytischen Ergebnis\n",
    "\n",
    "$V_d = \\frac{\\pi^{d/2}}{\\Gamma(1+d/2)}$"
   ]
  },
  {
   "cell_type": "code",
   "execution_count": null,
   "metadata": {},
   "outputs": [],
   "source": []
  }
 ],
 "metadata": {
  "kernelspec": {
   "display_name": "Python 3",
   "language": "python",
   "name": "python3"
  },
  "language_info": {
   "codemirror_mode": {
    "name": "ipython",
    "version": 3
   },
   "file_extension": ".py",
   "mimetype": "text/x-python",
   "name": "python",
   "nbconvert_exporter": "python",
   "pygments_lexer": "ipython3",
   "version": "3.10.8"
  },
  "orig_nbformat": 4,
  "vscode": {
   "interpreter": {
    "hash": "e7370f93d1d0cde622a1f8e1c04877d8463912d04d973331ad4851f04de6915a"
   }
  }
 },
 "nbformat": 4,
 "nbformat_minor": 2
}
