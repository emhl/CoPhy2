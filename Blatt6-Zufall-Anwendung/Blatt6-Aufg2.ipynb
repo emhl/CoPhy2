{
 "cells": [
  {
   "attachments": {},
   "cell_type": "markdown",
   "metadata": {},
   "source": [
    "# Blatt 6"
   ]
  },
  {
   "attachments": {},
   "cell_type": "markdown",
   "metadata": {},
   "source": [
    "## Aufgabe 2  Monte-Carlo-Integration"
   ]
  },
  {
   "cell_type": "code",
   "execution_count": 1,
   "metadata": {},
   "outputs": [],
   "source": [
    "import numpy as np\n",
    "import random"
   ]
  },
  {
   "attachments": {},
   "cell_type": "markdown",
   "metadata": {},
   "source": [
    "### a) Wir wollen die Fl ̈ache eines Kreises mit Hilfe der Stein-Wurf-Methode bestimmen.\n",
    "Effektiv berechnen wir also das Integral\n",
    "\n",
    "$4 \\int_0^1 \\sqrt{1-x^2} dx$\n",
    "\n",
    "mit der Monte-Carlo-Integration.\n",
    "Schreibe dazu ein Python-Programm und bestimme N -mal zwei unabh ̈angige\n",
    "Zufallszahlen $a$ und $b$ im Bereich $[0, 1]$ und berechne das Verh ̈altnis $N_+/N$ , wobei $N_+$ die\n",
    "Versuche mit $a^2 + b^2 \\leq 1$ sind.\n",
    "Vergleiche das Ergebnis f ̈ur verschiedene Werte von $N$ . Wie gut konvergiert die Methode\n",
    "f ̈ur $N \\to \\infty$ gegen den theoretischen Wert?"
   ]
  },
  {
   "cell_type": "code",
   "execution_count": 2,
   "metadata": {},
   "outputs": [],
   "source": [
    "def rand(n):\n",
    "    y = np.zeros(n)\n",
    "    for i in range(n):\n",
    "        y[i] = random.random()\n",
    "    return y\n",
    "\n",
    "numbers = [10, 1_000, 100_000, 1_000_000]"
   ]
  },
  {
   "cell_type": "code",
   "execution_count": 3,
   "metadata": {},
   "outputs": [
    {
     "name": "stdout",
     "output_type": "stream",
     "text": [
      "        10 -> 2.4\n",
      "      1000 -> 3.164\n",
      "    100000 -> 3.14036\n",
      "   1000000 -> 3.140244\n"
     ]
    }
   ],
   "source": [
    "for n in numbers:\n",
    "    a, b = rand(n), rand(n)\n",
    "    hits = 0\n",
    "    for i in range(n):\n",
    "        if a[i]**2 + b[i]**2 <= 1:\n",
    "            hits += 1\n",
    "    print(f\"{n:10d} -> {4*hits/n}\") # 4*all/n = pi"
   ]
  },
  {
   "attachments": {},
   "cell_type": "markdown",
   "metadata": {},
   "source": [
    "### b) Einheitskugel\n",
    "Die MC-Integration ist insbesondere bei hochdimensionalen Integralen konkurrenzlos.\n",
    "Erweitere das Programm aus a), um das Volumen der d-dimensionalen Einheitskugel\n",
    "$V_d = \\int d^dx$ zu berechnen. Erzeuge dazu N -mal d unabh ̈angige Zufallszahlen $x_i$ im\n",
    "Bereich $[0, 1]$ und berechne wieder das Verh ̈altnis $N_+/N$ , wobei $N_+$ hier die Versuche mit $\\sum_{i=1}^d x_i^2 \\leq 1$ sind.\n",
    "Stelle das berechnete Volumen f ̈ur N = 106 abh ̈angig von der Dimension d = 1, .., 20 dar\n",
    "und vergleichen Sie mit dem analytischen Ergebnis\n",
    "\n",
    "$V_d = \\frac{\\pi^{d/2}}{\\Gamma(1+d/2)}$"
   ]
  },
  {
   "cell_type": "code",
   "execution_count": 4,
   "metadata": {},
   "outputs": [],
   "source": [
    "# calculate the volume of a d-dimensional sphere\n",
    "def volume(n,d):\n",
    "    y = np.zeros((n,d))\n",
    "    for i in range(n):\n",
    "        for j in range(d):\n",
    "            y[i,j] = random.random()\n",
    "    hits = 0\n",
    "    for i in range(n):\n",
    "        if np.linalg.norm(y[i,:]) <= 1:\n",
    "            hits += 1\n",
    "    return (2**d)*hits/n\n",
    "\n",
    "dimensions = [1, 2, 3, 4, 5, 6, 7, 8, 9, 10]"
   ]
  },
  {
   "cell_type": "code",
   "execution_count": 5,
   "metadata": {},
   "outputs": [
    {
     "name": "stdout",
     "output_type": "stream",
     "text": [
      " 1 dimensional sphere\n",
      "        10 -> 2.0\t      1000 -> 2.0\t    100000 -> 2.0\t   1000000 -> 2.0\t\n",
      " 2 dimensional sphere\n",
      "        10 -> 2.8\t      1000 -> 3.156\t    100000 -> 3.13328\t   1000000 -> 3.141108\t\n",
      " 3 dimensional sphere\n",
      "        10 -> 3.2\t      1000 -> 4.184\t    100000 -> 4.19976\t   1000000 -> 4.18512\t\n",
      " 4 dimensional sphere\n",
      "        10 -> 1.6\t      1000 -> 4.624\t    100000 -> 4.93712\t   1000000 -> 4.928672\t\n",
      " 5 dimensional sphere\n",
      "        10 -> 9.6\t      1000 -> 5.344\t    100000 -> 5.19008\t   1000000 -> 5.266304\t\n",
      " 6 dimensional sphere\n",
      "        10 -> 0.0\t      1000 -> 4.864\t    100000 -> 5.09568\t   1000000 -> 5.152\t\n",
      " 7 dimensional sphere\n",
      "        10 -> 0.0\t      1000 -> 4.352\t    100000 -> 4.64512\t   1000000 -> 4.67712\t\n",
      " 8 dimensional sphere\n",
      "        10 -> 0.0\t      1000 -> 4.352\t    100000 -> 4.032\t   1000000 -> 4.109056\t\n",
      " 9 dimensional sphere\n",
      "        10 -> 0.0\t      1000 -> 3.072\t    100000 -> 3.42528\t   1000000 -> 3.274752\t\n",
      "10 dimensional sphere\n",
      "        10 -> 0.0\t      1000 -> 2.048\t    100000 -> 2.52928\t   1000000 -> 2.496512\t\n"
     ]
    }
   ],
   "source": [
    "for d in dimensions:\n",
    "    print(f\"{d:2d} dimensional sphere\")\n",
    "    for n in numbers:\n",
    "        print(f\"{n:10d} -> {volume(n,d)}\", end=\"\\t\")\n",
    "    print()"
   ]
  },
  {
   "cell_type": "code",
   "execution_count": 6,
   "metadata": {},
   "outputs": [
    {
     "name": "stdout",
     "output_type": "stream",
     "text": [
      " 1 dimensional sphere\n",
      "analytical solution: 1.9999999999999998\n",
      " 2 dimensional sphere\n",
      "analytical solution: 3.141592653589793\n",
      " 3 dimensional sphere\n",
      "analytical solution: 4.1887902047863905\n",
      " 4 dimensional sphere\n",
      "analytical solution: 4.934802200544679\n",
      " 5 dimensional sphere\n",
      "analytical solution: 5.263789013914325\n",
      " 6 dimensional sphere\n",
      "analytical solution: 5.167712780049969\n",
      " 7 dimensional sphere\n",
      "analytical solution: 4.7247659703314016\n",
      " 8 dimensional sphere\n",
      "analytical solution: 4.058712126416768\n",
      " 9 dimensional sphere\n",
      "analytical solution: 3.2985089027387064\n",
      "10 dimensional sphere\n",
      "analytical solution: 2.550164039877345\n"
     ]
    }
   ],
   "source": [
    "# analytical solution\n",
    "for d in dimensions:\n",
    "    print(f\"{d:2d} dimensional sphere\")\n",
    "    print(f\"analytical solution: {np.pi**(d/2)/np.math.gamma(d/2 + 1)}\")"
   ]
  }
 ],
 "metadata": {
  "kernelspec": {
   "display_name": "Python 3",
   "language": "python",
   "name": "python3"
  },
  "language_info": {
   "codemirror_mode": {
    "name": "ipython",
    "version": 3
   },
   "file_extension": ".py",
   "mimetype": "text/x-python",
   "name": "python",
   "nbconvert_exporter": "python",
   "pygments_lexer": "ipython3",
   "version": "3.10.6"
  },
  "orig_nbformat": 4,
  "vscode": {
   "interpreter": {
    "hash": "916dbcbb3f70747c44a77c7bcd40155683ae19c65e1c03b4aa3499c5328201f1"
   }
  }
 },
 "nbformat": 4,
 "nbformat_minor": 2
}
